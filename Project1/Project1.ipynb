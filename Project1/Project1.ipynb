{
 "cells": [
  {
   "cell_type": "code",
   "execution_count": 5,
   "metadata": {},
   "outputs": [
    {
     "name": "stderr",
     "output_type": "stream",
     "text": [
      "\n",
      "Attaching package: 'igraph'\n",
      "\n",
      "\n",
      "The following objects are masked from 'package:stats':\n",
      "\n",
      "    decompose, spectrum\n",
      "\n",
      "\n",
      "The following object is masked from 'package:base':\n",
      "\n",
      "    union\n",
      "\n",
      "\n"
     ]
    },
    {
     "ename": "ERROR",
     "evalue": "Error in library(\"pracma\"): there is no package called 'pracma'\n",
     "output_type": "error",
     "traceback": [
      "Error in library(\"pracma\"): there is no package called 'pracma'\nTraceback:\n",
      "1. library(\"pracma\")"
     ]
    }
   ],
   "source": [
    "library('igraph')\n",
    "library('Matrix')\n",
    "library('pracma')"
   ]
  },
  {
   "cell_type": "code",
   "execution_count": 6,
   "metadata": {},
   "outputs": [],
   "source": [
    "# TA-provided helper functions\n",
    "create_transition_matrix = function (g){\n",
    "    \n",
    "    # WARNING: make sure your graph is connected (you might input GCC of your graph)\n",
    "    \n",
    "    vs = V(g)\n",
    "    n = vcount(g)\n",
    "    adj = as_adjacency_matrix(g)\n",
    "    adj[diag(rowSums(adj) == 0)] = 1  # handle if the user is using the function for networks with isolated nodes by creating self-edges\n",
    "    z = matrix(rowSums(adj, , 1))\n",
    "    \n",
    "    transition_matrix = adj / repmat(z, 1, n)  # normalize to get probabilities\n",
    "    \n",
    "    return(transition_matrix)\n",
    "}\n",
    "\n",
    "random_walk = function (g, num_steps, start_node, transition_matrix = NULL){\n",
    "    if(is.null(transition_matrix))\n",
    "        transition_matrix = create_transition_matrix(g)\n",
    "        \n",
    "    v = start_node\n",
    "    for(i in 1:num_steps){\n",
    "        fprintf('Step %d: %d\\n', i, v)  # COMMENT THIS\n",
    "        PMF = transition_matrix[v, ]\n",
    "        v = sample(1:vcount(g), 1, prob = PMF)        \n",
    "    }\n",
    "    \n",
    "    return(v)\n",
    "}"
   ]
  },
  {
   "cell_type": "code",
   "execution_count": 30,
   "metadata": {},
   "outputs": [],
   "source": [
    "# ER model question 1a and 1b\n",
    "er_1ab = function(p, n=1000, iterations=1000) {\n",
    "    set.seed(0)\n",
    "    g = erdos.renyi.game(n, p, directed=F)\n",
    "    plot(degree.distribution(g), main=paste(\"Degree distribution with p = \", p), xlab=\"Degree\", ylab=\"Frequency\")\n",
    "    \n",
    "    # 1a\n",
    "    print(paste(\"Mean: \", mean(degree(g))))\n",
    "    print(paste(\"Variance: \", var(degree(g))))\n",
    "    \n",
    "    # 1b\n",
    "    # To numerically approximate, we create 1000 graphs for each p\n",
    "    n_connected = 0\n",
    "    connected = TRUE\n",
    "    for (i in 1:iterations) {\n",
    "        g_i = erdos.renyi.game(n, p, directed=F)\n",
    "        if (is_connected(g_i)) {\n",
    "            n_connected = n_connected + 1\n",
    "        } else {\n",
    "            connected = FALSE\n",
    "            # need an unconnected graph for later\n",
    "            unconnected_graph = g_i\n",
    "        }\n",
    "    }\n",
    "    \n",
    "    print(paste(\"All realizations connected: \", connected))\n",
    "    print(paste(\"Probability to be connected: \", (n_connected / iterations)))\n",
    "    \n",
    "    if (!connected) {\n",
    "        # GCC logic provided by TA Arash\n",
    "        g = unconnected_graph\n",
    "        g.components <- clusters(g)\n",
    "        ix <- which.max(g.components$csize)\n",
    "        gcc <- induced.subgraph(g, which(g.components$membership == ix))\n",
    "        \n",
    "        print(paste(\"Diameter of GCC: \", diameter(gcc)))\n",
    "    }    \n",
    "}"
   ]
  },
  {
   "cell_type": "code",
   "execution_count": 31,
   "metadata": {},
   "outputs": [
    {
     "name": "stdout",
     "output_type": "stream",
     "text": [
      "[1] \"Mean:  3.122\"\n",
      "[1] \"Variance:  3.30842442442442\"\n",
      "[1] \"All realizations connected:  FALSE\"\n",
      "[1] \"Probability to be connected:  0\"\n",
      "[1] \"Diameter of GCC:  14\"\n"
     ]
    },
    {
     "data": {
      "image/png": "[encoded data removed]",
      "text/plain": [
       "Plot with title \"Degree distribution with p =  0.003\""
      ]
     },
     "metadata": {
      "image/png": {
       "height": 420,
       "width": 420
      },
      "text/plain": {
       "height": 420,
       "width": 420
      }
     },
     "output_type": "display_data"
    }
   ],
   "source": [
    "er_1ab(0.003)"
   ]
  },
  {
   "cell_type": "code",
   "execution_count": 32,
   "metadata": {},
   "outputs": [
    {
     "name": "stdout",
     "output_type": "stream",
     "text": [
      "[1] \"Mean:  4.034\"\n",
      "[1] \"Variance:  3.91876276276276\"\n",
      "[1] \"All realizations connected:  FALSE\"\n",
      "[1] \"Probability to be connected:  0\"\n",
      "[1] \"Diameter of GCC:  10\"\n"
     ]
    },
    {
     "data": {
      "image/png": "[encoded data removed]",
      "text/plain": [
       "Plot with title \"Degree distribution with p =  0.004\""
      ]
     },
     "metadata": {
      "image/png": {
       "height": 420,
       "width": 420
      },
      "text/plain": {
       "height": 420,
       "width": 420
      }
     },
     "output_type": "display_data"
    }
   ],
   "source": [
    "er_1ab(0.004)"
   ]
  },
  {
   "cell_type": "code",
   "execution_count": 33,
   "metadata": {},
   "outputs": [
    {
     "name": "stdout",
     "output_type": "stream",
     "text": [
      "[1] \"Mean:  10.03\"\n",
      "[1] \"Variance:  9.80890890890891\"\n",
      "[1] \"All realizations connected:  FALSE\"\n",
      "[1] \"Probability to be connected:  0.932\"\n",
      "[1] \"Diameter of GCC:  6\"\n"
     ]
    },
    {
     "data": {
      "image/png": "[encoded data removed]",
      "text/plain": [
       "Plot with title \"Degree distribution with p =  0.01\""
      ]
     },
     "metadata": {
      "image/png": {
       "height": 420,
       "width": 420
      },
      "text/plain": {
       "height": 420,
       "width": 420
      }
     },
     "output_type": "display_data"
    }
   ],
   "source": [
    "er_1ab(0.01)"
   ]
  },
  {
   "cell_type": "code",
   "execution_count": 36,
   "metadata": {},
   "outputs": [
    {
     "name": "stdout",
     "output_type": "stream",
     "text": [
      "[1] \"Mean:  50.012\"\n",
      "[1] \"Variance:  48.4182742742743\"\n",
      "[1] \"All realizations connected:  TRUE\"\n",
      "[1] \"Probability to be connected:  1\"\n"
     ]
    },
    {
     "data": {
      "image/png": "[encoded data removed]",
      "text/plain": [
       "Plot with title \"Degree distribution with p =  0.05\""
      ]
     },
     "metadata": {
      "image/png": {
       "height": 420,
       "width": 420
      },
      "text/plain": {
       "height": 420,
       "width": 420
      }
     },
     "output_type": "display_data"
    }
   ],
   "source": [
    "er_1ab(0.05)"
   ]
  },
  {
   "cell_type": "code",
   "execution_count": 39,
   "metadata": {},
   "outputs": [
    {
     "name": "stdout",
     "output_type": "stream",
     "text": [
      "[1] \"Mean:  100.184\"\n",
      "[1] \"Variance:  91.3514954954955\"\n",
      "[1] \"All realizations connected:  TRUE\"\n",
      "[1] \"Probability to be connected:  1\"\n"
     ]
    },
    {
     "data": {
      "image/png": "[encoded data removed]",
      "text/plain": [
       "Plot with title \"Degree distribution with p =  0.1\""
      ]
     },
     "metadata": {
      "image/png": {
       "height": 420,
       "width": 420
      },
      "text/plain": {
       "height": 420,
       "width": 420
      }
     },
     "output_type": "display_data"
    }
   ],
   "source": [
    "er_1ab(0.1)"
   ]
  },
  {
   "cell_type": "code",
   "execution_count": null,
   "metadata": {},
   "outputs": [],
   "source": []
  }
 ],
 "metadata": {
  "kernelspec": {
   "display_name": "R",
   "language": "R",
   "name": "ir"
  },
  "language_info": {
   "codemirror_mode": "r",
   "file_extension": ".r",
   "mimetype": "text/x-r-source",
   "name": "R",
   "pygments_lexer": "r",
   "version": "3.6.3"
  }
 },
 "nbformat": 4,
 "nbformat_minor": 4
}
