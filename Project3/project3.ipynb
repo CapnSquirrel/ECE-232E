{
 "cells": [
  {
   "cell_type": "code",
   "execution_count": 1,
   "metadata": {},
   "outputs": [],
   "source": [
    "import matplotlib.pyplot as plotlib"
   ]
  },
  {
   "cell_type": "code",
   "execution_count": 72,
   "metadata": {},
   "outputs": [],
   "source": [
    "def plot_heat_map(env, index):\n",
    "    plotlib.pcolor(env)\n",
    "    plotlib.gca().invert_yaxis()\n",
    "    plotlib.title(f\"Reward Function {index} Heat Map\")\n",
    "    plotlib.colorbar()\n",
    "    plotlib.axis('equal')\n",
    "    plotlib.show()"
   ]
  },
  {
   "cell_type": "code",
   "execution_count": 76,
   "metadata": {},
   "outputs": [],
   "source": [
    "def rf_hm_1():\n",
    "    rows, cols = 10, 10\n",
    "    env = [[0 for x in range(cols)] for y in range(rows)]\n",
    "    env[2][5:7] = [-10 for x in range(2)]\n",
    "    env[3][5:7] = [-10 for x in range(2)]\n",
    "    env[4][1:3] = [-10 for x in range(2)]\n",
    "    env[5][1:3] = [-10 for x in range(2)]\n",
    "    env[8][2:4] = [-10 for x in range(2)]\n",
    "    env[9][2:4] = [-10 for x in range(2)]\n",
    "    env[9][9] = 1\n",
    "\n",
    "    plot_heat_map(env, 1)\n",
    "    \n",
    "def rf_hm_2():\n",
    "    rows, cols = 10, 10\n",
    "    env = [[0 for x in range(cols)] for y in range(rows)]\n",
    "    env[1][4] = -100\n",
    "    env[2][4] = -100\n",
    "    env[3][4] = -100\n",
    "    env[4][4] = -100\n",
    "    env[5][4] = -100\n",
    "    env[6][4] = -100\n",
    "    env[1][5] = -100\n",
    "    env[1][6] = -100\n",
    "    env[2][6] = -100\n",
    "    env[3][6] = -100\n",
    "    env[3][7] = -100\n",
    "    env[3][8] = -100\n",
    "    env[4][8] = -100\n",
    "    env[5][8] = -100\n",
    "    env[6][8] = -100\n",
    "    env[7][8] = -100\n",
    "    env[7][6] = -100\n",
    "    env[7][7] = -100\n",
    "    env[7][8] = -100\n",
    "    env[8][6] = -100\n",
    "    env[9][9] = 10\n",
    "\n",
    "    plot_heat_map(env, 2)"
   ]
  },
  {
   "cell_type": "code",
   "execution_count": 77,
   "metadata": {},
   "outputs": [
    {
     "data": {
      "image/png": "[encoded data removed]",
      "text/plain": [
       "<Figure size 432x288 with 2 Axes>"
      ]
     },
     "metadata": {
      "needs_background": "light"
     },
     "output_type": "display_data"
    },
    {
     "data": {
      "image/png": "[encoded data removed]",
      "text/plain": [
       "<Figure size 432x288 with 2 Axes>"
      ]
     },
     "metadata": {
      "needs_background": "light"
     },
     "output_type": "display_data"
    }
   ],
   "source": [
    "rf_hm_1()\n",
    "rf_hm_2()"
   ]
  }
 ],
 "metadata": {
  "kernelspec": {
   "display_name": "Python 3",
   "language": "python",
   "name": "python3"
  },
  "language_info": {
   "codemirror_mode": {
    "name": "ipython",
    "version": 3
   },
   "file_extension": ".py",
   "mimetype": "text/x-python",
   "name": "python",
   "nbconvert_exporter": "python",
   "pygments_lexer": "ipython3",
   "version": "3.7.6"
  }
 },
 "nbformat": 4,
 "nbformat_minor": 4
}
