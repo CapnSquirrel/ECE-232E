{
 "cells": [
  {
   "cell_type": "code",
   "execution_count": 36,
   "metadata": {
    "scrolled": false
   },
   "outputs": [],
   "source": [
    "library('igraph')\n",
    "\n",
    "node_id=10\n",
    "facebook_graph = read_graph(\"facebook_combined.txt\", format=\"ncol\", directed=FALSE)"
   ]
  },
  {
   "cell_type": "code",
   "execution_count": 72,
   "metadata": {},
   "outputs": [],
   "source": [
    "# Q5\n",
    "fb_ego_graph = function(g) {\n",
    "    g_ego = make_ego_graph(g, order=1, '0')[[1]]\n",
    "    plot(g_ego, edge.arrow.size=.1, vertex.size=5, vertex.label=NA, main=\"node ID 1 ego network\")\n",
    "    \n",
    "    print(paste(\"Network ID 1 number of nodes: \", vcount(g_ego)))\n",
    "    print(paste(\"Network ID 1 number of edges: \", ecount(g_ego)))\n",
    "    \n",
    "    # Q6\n",
    "    print(paste(\"Network ID 1 diameter: \", diameter(g_ego)))\n",
    "}\n",
    "\n",
    "fb_core = function(g) {\n",
    "    nodes = c(V(g)$name)\n",
    "    cores = c()\n",
    "    degree_averages = c()\n",
    "    for(i in nodes){\n",
    "        num_neighbors = length(neighbors(g_edgelist,i))\n",
    "        if(num_neighbors > 200){\n",
    "            degree_averages = c(degree_averages, degree(g_edgelist, i))\n",
    "            cores = c(cores,i)\n",
    "        } \n",
    "    }\n",
    "\n",
    "    print(paste('Number of core nodes: ', length(cores)))\n",
    "    print(paste('Average degree: ', mean(degree_averages)))\n",
    "}\n",
    "\n",
    "core_communities = function(g, core_list=c('0','107','348','483','1086')) {\n",
    "    for (core_id in core_list) {\n",
    "        user_neighbors = neighbors(g, core_id)\n",
    "        user_vertices = c(core_id, user_neighbors)\n",
    "        user_network = induced_subgraph(g, user_vertices)\n",
    "\n",
    "        fast_greedy = cluster_fast_greedy(user_network)\n",
    "        edge_betweenness = cluster_edge_betweenness(user_network)\n",
    "        infomap = cluster_infomap(user_network)\n",
    "\n",
    "        par(mfrow=c(1,3))\n",
    "        options(repr.plot.width=15, repr.plot.height=4)\n",
    "        plot(user_network, mark.groups=groups(fast_greedy), vertex.color=fast_greedy$membership, vertex.size=6, vertex.label=NA, main=paste(\"Fast Greedy for NodeID: \",node_id))\n",
    "        cat(sprintf(\"        Modularity of Fast Greedy: %0.3f\", modularity(fast_greedy)))\n",
    "        plot(user_network, mark.groups=groups(edge_betweenness), vertex.color=edge_betweenness$membership, vertex.size=6, vertex.label=NA, main=paste(\"Edge Betweenness for NodeID: \",node_id))\n",
    "        cat(sprintf(\"        Modularity of Edge Betweenness: %0.3f\", modularity(edge_betweenness)))\n",
    "        plot(user_network, mark.groups=groups(infomap), vertex.color=infomap$membership, vertex.size=6, vertex.label=NA, main=paste(\"Infomap for NodeID: \",node_id))\n",
    "        cat(sprintf(\"        Modularity of Infomap: %0.3f\", modularity(infomap)))\n",
    "    }\n",
    "}\n",
    "\n",
    "coreless_communities = function(g, core_list=c('0','107','348','483','1086')) {\n",
    "        for (core_id in core_list) {\n",
    "            user_neighbors = neighbors(g, core_id)\n",
    "            user_vertices = c(core_id, user_neighbors)\n",
    "            user_network = induced_subgraph(g, user_vertices)\n",
    "            user_network = delete_vertices(user_network, toString(core_id))\n",
    "\n",
    "            fast_greedy = cluster_fast_greedy(user_network)\n",
    "            edge_betweenness = cluster_edge_betweenness(user_network)\n",
    "            infomap = cluster_infomap(user_network)\n",
    "\n",
    "            par(mfrow=c(1,3))\n",
    "            options(repr.plot.width=15, repr.plot.height=4)\n",
    "            plot(user_network, mark.groups=groups(fast_greedy), vertex.color=fast_greedy$membership, vertex.size=6, vertex.label=NA, main=paste(\"Fast Greedy for NodeID: \",node_id))\n",
    "            cat(sprintf(\"        Modularity of Fast Greedy: %0.3f\", modularity(fast_greedy)))\n",
    "            plot(user_network, mark.groups=groups(edge_betweenness), vertex.color=edge_betweenness$membership, vertex.size=6, vertex.label=NA, main=paste(\"Edge Betweenness for NodeID: \",node_id))\n",
    "            cat(sprintf(\"        Modularity of Edge Betweenness: %0.3f\", modularity(edge_betweenness)))\n",
    "            plot(user_network, mark.groups=groups(infomap), vertex.color=infomap$membership, vertex.size=6, vertex.label=NA, main=paste(\"Infomap for NodeID: \",node_id))\n",
    "            cat(sprintf(\"        Modularity of Infomap: %0.3f\", modularity(infomap)))\n",
    "    }\n",
    "}"
   ]
  },
  {
   "cell_type": "code",
   "execution_count": 70,
   "metadata": {
    "scrolled": false
   },
   "outputs": [
    {
     "name": "stdout",
     "output_type": "stream",
     "text": [
      "[1] \"Network ID 1 number of nodes:  348\"\n",
      "[1] \"Network ID 1 number of edges:  2866\"\n",
      "[1] \"Network ID 1 diameter:  2\"\n"
     ]
    },
    {
     "data": {
      "image/png": "[encoded data removed]",
      "text/plain": [
       "Plot with title \"node ID 1 ego network\""
      ]
     },
     "metadata": {
      "image/png": {
       "height": 240,
       "width": 900
      },
      "text/plain": {
       "height": 240,
       "width": 900
      }
     },
     "output_type": "display_data"
    }
   ],
   "source": [
    "fb_ego_graph(facebook_graph)"
   ]
  },
  {
   "cell_type": "code",
   "execution_count": 73,
   "metadata": {
    "scrolled": false
   },
   "outputs": [
    {
     "name": "stdout",
     "output_type": "stream",
     "text": [
      "[1] \"Number of core nodes:  40\"\n",
      "[1] \"Average degree:  279.375\"\n"
     ]
    }
   ],
   "source": [
    "fb_core(facebook_graph)"
   ]
  },
  {
   "cell_type": "code",
   "execution_count": null,
   "metadata": {
    "scrolled": false
   },
   "outputs": [
    {
     "name": "stdout",
     "output_type": "stream",
     "text": [
      "        Modularity of Fast Greedy: 0.359        Modularity of Edge Betweenness: 0.352"
     ]
    }
   ],
   "source": [
    "core_communities(facebook_graph)"
   ]
  },
  {
   "cell_type": "code",
   "execution_count": null,
   "metadata": {},
   "outputs": [],
   "source": [
    "coreless_communities(facebook_graph)"
   ]
  }
 ],
 "metadata": {
  "kernelspec": {
   "display_name": "R",
   "language": "R",
   "name": "ir"
  },
  "language_info": {
   "codemirror_mode": "r",
   "file_extension": ".r",
   "mimetype": "text/x-r-source",
   "name": "R",
   "pygments_lexer": "r",
   "version": "3.6.3"
  }
 },
 "nbformat": 4,
 "nbformat_minor": 4
}
