{
 "cells": [
  {
   "cell_type": "code",
   "execution_count": 22,
   "metadata": {},
   "outputs": [],
   "source": [
    "import pandas as pd\n",
    "import numpy as np\n",
    "from igraph import *"
   ]
  },
  {
   "cell_type": "code",
   "execution_count": 23,
   "metadata": {},
   "outputs": [
    {
     "name": "stdout",
     "output_type": "stream",
     "text": [
      "         sourceid  dstid  mean_travel_time\n",
      "2             758    972            953.55\n",
      "5            1197   2006           1213.18\n",
      "6            2652    620            828.92\n",
      "7            2427   2693           1742.80\n",
      "8            2653    610            699.03\n",
      "...           ...    ...               ...\n",
      "5144054      1122    893           1167.77\n",
      "5144056      1169    423           1328.88\n",
      "5144057      1116    953           1336.86\n",
      "5144059      1167    443           1467.28\n",
      "5144061      1127    843           1226.04\n",
      "\n",
      "[1692450 rows x 3 columns]\n"
     ]
    }
   ],
   "source": [
    "# data cleanup with python\n",
    "g = pd.read_csv('los_angeles-censustracts-2019-4-All-MonthlyAggregate.csv')\n",
    "g = g.drop(['standard_deviation_travel_time', 'geometric_mean_travel_time', 'geometric_standard_deviation_travel_time'], axis=1)\n",
    "g = g.drop(g[g.month != 12].index)\n",
    "december = g.drop(['month'], axis=1)\n",
    "\n",
    "print(december)"
   ]
  },
  {
   "cell_type": "code",
   "execution_count": 59,
   "metadata": {},
   "outputs": [],
   "source": [
    "# remove duplicates\n",
    "december_rows = np.asarray(december)\n",
    "\n",
    "routes = {}\n",
    "for row in december_rows:\n",
    "    locations = tuple(np.sort(row[0:2]))\n",
    "    if locations in routes:\n",
    "        routes[locations].append(row[2])\n",
    "    else:\n",
    "        routes[locations] = [row[2]]"
   ]
  },
  {
   "cell_type": "code",
   "execution_count": 61,
   "metadata": {},
   "outputs": [],
   "source": [
    "# write to new file to user later\n",
    "with open('travel_times_december.txt', 'w') as f:\n",
    "    for route in routes:\n",
    "        string = f'{int(route[0])} {int(route[1])} {np.mean(routes[route])}\\n'\n",
    "        f.write(string)"
   ]
  },
  {
   "cell_type": "code",
   "execution_count": 69,
   "metadata": {},
   "outputs": [
    {
     "name": "stdout",
     "output_type": "stream",
     "text": [
      "IGRAPH UNW- 2649 1004955 -- \n",
      "+ attr: name (v), weight (e)\n",
      "edge count: 1004955 vertex count: 2649\n"
     ]
    }
   ],
   "source": [
    "# Q6\n",
    "travel_graph = Graph.Read('travel_times_december.txt', format='ncol', directed=False)\n",
    "gcc = travel_graph.clusters().giant()\n",
    "summary(gcc)\n",
    "print(f'edge count: {gcc.ecount()}', f'vertex count: {gcc.vcount()}')"
   ]
  },
  {
   "cell_type": "code",
   "execution_count": 76,
   "metadata": {},
   "outputs": [
    {
     "name": "stdout",
     "output_type": "stream",
     "text": [
      "IGRAPH UNW- 2649 2648 -- \n",
      "+ attr: name (v), weight (e)\n",
      "edge count: 2648 vertex count: 2649\n",
      "A: 597 --- B: 598\n",
      "A: 480 --- B: 714\n",
      "A: 235 --- B: 255\n",
      "A: 734 --- B: 1091\n",
      "A: 794 --- B: 1465\n"
     ]
    }
   ],
   "source": [
    "# Q7\n",
    "mst = gcc.spanning_tree(weights=gcc.es[\"weight\"])\n",
    "summary(mst)\n",
    "print(f'edge count: {mst.ecount()}', f'vertex count: {mst.vcount()}')\n",
    "\n",
    "n = 5\n",
    "for e in mst.es():\n",
    "    if n > 0:\n",
    "        pair = e.tuple\n",
    "        print(f'A: {pair[0]} --- B: {pair[1]}')\n",
    "        n-=1"
   ]
  },
  {
   "cell_type": "code",
   "execution_count": null,
   "metadata": {},
   "outputs": [],
   "source": []
  }
 ],
 "metadata": {
  "kernelspec": {
   "display_name": "Python 3",
   "language": "python",
   "name": "python3"
  },
  "language_info": {
   "codemirror_mode": {
    "name": "ipython",
    "version": 3
   },
   "file_extension": ".py",
   "mimetype": "text/x-python",
   "name": "python",
   "nbconvert_exporter": "python",
   "pygments_lexer": "ipython3",
   "version": "3.7.6"
  }
 },
 "nbformat": 4,
 "nbformat_minor": 4
}
