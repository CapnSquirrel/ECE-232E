{
 "cells": [
  {
   "cell_type": "code",
   "execution_count": 1,
   "metadata": {},
   "outputs": [],
   "source": [
    "import matplotlib.pyplot as plotlib\n",
    "import numpy as np\n",
    "import seaborn as sns"
   ]
  },
  {
   "cell_type": "code",
   "execution_count": 4,
   "metadata": {},
   "outputs": [],
   "source": [
    "def plot_heat_map(env, index):\n",
    "    plotlib.pcolor(env)\n",
    "    plotlib.gca().invert_yaxis()\n",
    "    plotlib.title(f\"Reward Function {index} Heat Map\")\n",
    "    plotlib.colorbar()\n",
    "    plotlib.axis('equal')\n",
    "    plotlib.show()"
   ]
  },
  {
   "cell_type": "code",
   "execution_count": 78,
   "metadata": {},
   "outputs": [],
   "source": [
    "def rf1():\n",
    "    rows, cols = 10, 10\n",
    "    env = np.zeros((rows, cols))\n",
    "#     to_mark = [(2, 5), (2, 6), (3, 5), (3, 6), (4, 1), \n",
    "#                (4, 2), (5, 1), (5, 2), (8, 2), (8, 3), \n",
    "#                (9, 2), (9, 3)]\n",
    "    \n",
    "#     for i in to_mark:\n",
    "#         env[i] = -10\n",
    "    env[(9, 9)] = 1\n",
    "\n",
    "    return env\n",
    "    \n",
    "def rf2():\n",
    "    rows, cols = 10, 10\n",
    "    env = np.zeros((rows, cols))\n",
    "    to_mark = [(1, 4), (1, 5), (1, 6), (2, 4), (2, 6),\n",
    "               (3, 4), (3, 6), (3, 7), (3, 8), (4, 4), \n",
    "               (4, 8), (5, 4), (5, 8), (6, 4), (6, 8),\n",
    "               (7, 6), (7, 7), (7, 8), (8, 6)]\n",
    "    \n",
    "    for i in to_mark:\n",
    "        env[i] = -100\n",
    "\n",
    "    return env"
   ]
  },
  {
   "cell_type": "code",
   "execution_count": 54,
   "metadata": {},
   "outputs": [
    {
     "data": {
      "image/png": "[encoded data removed]",
      "text/plain": [
       "<Figure size 432x288 with 2 Axes>"
      ]
     },
     "metadata": {
      "needs_background": "light"
     },
     "output_type": "display_data"
    },
    {
     "data": {
      "image/png": "[encoded data removed]",
      "text/plain": [
       "<Figure size 432x288 with 2 Axes>"
      ]
     },
     "metadata": {
      "needs_background": "light"
     },
     "output_type": "display_data"
    }
   ],
   "source": [
    "plot_heat_map(rf1(), 1)\n",
    "plot_heat_map(rf2(), 2)"
   ]
  },
  {
   "cell_type": "code",
   "execution_count": 80,
   "metadata": {},
   "outputs": [],
   "source": [
    "def get_actions(state):\n",
    "    possible = []\n",
    "    if (state[0] - 1) >= 0:\n",
    "        possible.append('U')\n",
    "    if (state[0] + 1) <= 9:\n",
    "        possible.append('D')\n",
    "    if (state[1] - 1) >= 0:\n",
    "        possible.append('L')\n",
    "    if (state[1] + 1) <= 9:\n",
    "        possible.append('R')\n",
    "        \n",
    "    return possible\n",
    "                    \n",
    "def step(state, action):\n",
    "    if action == 'U':\n",
    "        return (state[0] - 1, state[1])\n",
    "    if action == 'D':\n",
    "        return (state[0] + 1, state[1])\n",
    "    if action == 'L':\n",
    "        return (state[0], state[1] - 1)\n",
    "    if action == 'R':\n",
    "        return (state[0], state[1] + 1)\n",
    "\n",
    "def transition_probability(state, neighbor, neighbor_list, action, w):\n",
    "    num_neighbors = len(neighbor_list)\n",
    "    possible_actions = get_actions(state)\n",
    "    next_state = step(state, action)\n",
    "    \n",
    "#     5 neighbors => inside graph\n",
    "    if num_neighbors == 5:\n",
    "        if state == neighbor:\n",
    "            return 0\n",
    "        elif next_state == neighbor:\n",
    "            return 1 - w + w/4\n",
    "        else:\n",
    "            return w/4\n",
    "        \n",
    "#     4 neighbors => edge\n",
    "    if num_neighbors == 4:\n",
    "        if action not in possible_actions:\n",
    "            if state == neighbor:\n",
    "                return 1-w + w/4\n",
    "            else:\n",
    "                return w/4\n",
    "        else:\n",
    "            if next_state == neighbor:\n",
    "                return 1 - w + w/4\n",
    "            else:\n",
    "                return w/4\n",
    "            \n",
    "#     3 neighbors => corner\n",
    "    if num_neighbors == 3:\n",
    "        if action not in possible_actions:\n",
    "            if state == neighbor:\n",
    "                return 1 - w + w/4 + w/4\n",
    "            else:\n",
    "                return w/4\n",
    "        else:\n",
    "            if state == neighbor:\n",
    "                return w/4 + w/4\n",
    "            elif next_state == neighbor:\n",
    "                return 1 - w + w/4\n",
    "            else:\n",
    "                return w/4\n",
    "    \n",
    "    return 0\n",
    "\n",
    "def neighbors(state):\n",
    "    neighbor_list = [(state[0] - 1, state[1]),\n",
    "                     (state[0] + 1, state[1]),\n",
    "                     (state[0], state[1] - 1),\n",
    "                     (state[0], state[1] + 1),\n",
    "                     (state[0], state[1])]\n",
    "\n",
    "    for neighbor in neighbor_list:\n",
    "        if ((neighbor[0] < 0) or (neighbor[1] < 0) or (neighbor[0] > 9) or (neighbor[1] > 9)):\n",
    "            neighbor_list.remove(neighbor)\n",
    "\n",
    "    return neighbor_list\n",
    "    \n",
    "def action_scores(actions, state, rf, g, w, V):\n",
    "    scores = dict()\n",
    "    \n",
    "    for action in actions:\n",
    "        scores[action] = 0\n",
    "        neighbor_list = neighbors(state)\n",
    "        for neighbor in neighbor_list:\n",
    "            prob = transition_probability(state, neighbor, neighbor_list, action, w)\n",
    "#             print(neighbor, state, action, prob)\n",
    "            reward = rf[neighbor]\n",
    "            scores[action] += (reward + g * V[neighbor])* prob\n",
    "    \n",
    "    return scores\n",
    "    \n",
    "def optimal_state_value(state_space, actions, rf, w, g, eps):\n",
    "    V = np.zeros(state_space.shape)\n",
    "    \n",
    "    delta = float('inf')\n",
    "    \n",
    "    while delta > eps:\n",
    "        delta = 0\n",
    "        \n",
    "        for state, _ in np.ndenumerate(state_space):\n",
    "            v = V[state]\n",
    "            V[state] = max(action_scores(actions, state, rf, g, w, V).values())\n",
    "            delta = max(delta, np.fabs(v - V[state]))\n",
    "    \n",
    "    return V\n",
    "            "
   ]
  },
  {
   "cell_type": "code",
   "execution_count": 57,
   "metadata": {},
   "outputs": [],
   "source": [
    "state_space = np.zeros((10, 10))\n",
    "actions = [ 'L', 'R', 'U', 'D']\n",
    "w = 0.1\n",
    "g = 0.8\n",
    "eps = 0.01"
   ]
  },
  {
   "cell_type": "code",
   "execution_count": 81,
   "metadata": {
    "scrolled": false
   },
   "outputs": [
    {
     "data": {
      "text/plain": [
       "<matplotlib.axes._subplots.AxesSubplot at 0x29d1f6504c8>"
      ]
     },
     "execution_count": 81,
     "metadata": {},
     "output_type": "execute_result"
    },
    {
     "data": {
      "image/png": "[encoded data removed]",
      "text/plain": [
       "<Figure size 432x288 with 1 Axes>"
      ]
     },
     "metadata": {
      "needs_background": "light"
     },
     "output_type": "display_data"
    }
   ],
   "source": [
    "rf = rf1()\n",
    "rf1_optimal_state_values = optimal_state_values = optimal_state_value(state_space, actions, rf, w, g, eps)\n",
    "\n",
    "sns.heatmap(state_space, annot=rf1_optimal_state_values, fmt='.2f', cbar = False, cmap=['w'])"
   ]
  },
  {
   "cell_type": "code",
   "execution_count": 73,
   "metadata": {},
   "outputs": [
    {
     "data": {
      "image/png": "[encoded data removed]",
      "text/plain": [
       "<Figure size 432x288 with 2 Axes>"
      ]
     },
     "metadata": {
      "needs_background": "light"
     },
     "output_type": "display_data"
    }
   ],
   "source": [
    "plot_heat_map(rf1_optimal_state_values, 1)"
   ]
  },
  {
   "cell_type": "code",
   "execution_count": 92,
   "metadata": {},
   "outputs": [],
   "source": [
    "def optimal_policy(state_space, rf, g, w, V):\n",
    "    arrows = {'U': '↑', 'D': '↓', 'L': '←', 'R': '→'}\n",
    "    \n",
    "    policy = np.zeros(state_space.shape, dtype = 'object')\n",
    "    \n",
    "    for state, _ in np.ndenumerate(state_space):\n",
    "        scores = action_scores(actions, state, rf, g, w, V)\n",
    "        maximum = max(scores, key = scores.get)\n",
    "        policy[state] = arrows[maximum]\n",
    "    \n",
    "    return policy"
   ]
  },
  {
   "cell_type": "code",
   "execution_count": 96,
   "metadata": {},
   "outputs": [
    {
     "data": {
      "text/plain": [
       "<matplotlib.axes._subplots.AxesSubplot at 0x29d21ac6488>"
      ]
     },
     "execution_count": 96,
     "metadata": {},
     "output_type": "execute_result"
    },
    {
     "data": {
      "image/png": "[encoded data removed]",
      "text/plain": [
       "<Figure size 432x288 with 1 Axes>"
      ]
     },
     "metadata": {
      "needs_background": "light"
     },
     "output_type": "display_data"
    }
   ],
   "source": [
    "rf1_optimal_policy = optimal_policy(state_space, rf, g, w, rf1_optimal_state_values)\n",
    "sns.heatmap(state_space, annot=rf1_optimal_policy, fmt='', cbar = False, cmap=['w'])"
   ]
  }
 ],
 "metadata": {
  "kernelspec": {
   "display_name": "Python 3",
   "language": "python",
   "name": "python3"
  },
  "language_info": {
   "codemirror_mode": {
    "name": "ipython",
    "version": 3
   },
   "file_extension": ".py",
   "mimetype": "text/x-python",
   "name": "python",
   "nbconvert_exporter": "python",
   "pygments_lexer": "ipython3",
   "version": "3.7.6"
  }
 },
 "nbformat": 4,
 "nbformat_minor": 4
}
